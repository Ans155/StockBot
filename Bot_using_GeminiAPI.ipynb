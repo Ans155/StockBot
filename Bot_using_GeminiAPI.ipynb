{
  "cells": [
    {
      "cell_type": "code",
      "execution_count": null,
      "metadata": {
        "colab": {
          "background_save": true,
          "base_uri": "https://localhost:8080/"
        },
        "id": "ebjHNcXI-2Cz",
        "outputId": "d26baaf5-8789-439c-d61d-e1378608d7ea"
      },
      "outputs": [],
      "source": [
        "!pip install -q --upgrade google-generativeai langchain-google-genai chromadb pypdf"
      ]
    },
    {
      "cell_type": "markdown",
      "metadata": {
        "id": "X4auhhTqkl8O"
      },
      "source": [
        "# **ALL THE NECESSARY INSTALLATIONS FOR TEXT FORMATING**"
      ]
    },
    {
      "cell_type": "code",
      "execution_count": null,
      "metadata": {
        "colab": {
          "background_save": true
        },
        "id": "cKcdjDgA-6sb"
      },
      "outputs": [],
      "source": [
        "from IPython.display import display\n",
        "from IPython.display import Markdown\n",
        "import textwrap\n",
        "\n",
        "\n",
        "def to_markdown(text):\n",
        "  text = text.replace('•', '  *')\n",
        "  return Markdown(textwrap.indent(text, '> ', predicate=lambda _: True))"
      ]
    },
    {
      "cell_type": "code",
      "execution_count": null,
      "metadata": {
        "colab": {
          "background_save": true
        },
        "id": "vB_ZiJB1-9FG"
      },
      "outputs": [],
      "source": [
        "import google.generativeai as genai\n",
        "from google.colab import userdata"
      ]
    },
    {
      "cell_type": "markdown",
      "metadata": {
        "id": "D2I4VxDSkx-K"
      },
      "source": [
        "# **INITIALIZE THE API**"
      ]
    },
    {
      "cell_type": "code",
      "execution_count": null,
      "metadata": {
        "id": "L0Dw6hwU-_bX"
      },
      "outputs": [],
      "source": [
        "# GOOGLE_API_KEY=\"AIzaSyDOsZGpQ0ab4QI4nw562Ty3cK4\"\n",
        "import os\n",
        "GOOGLE_API_KEY=userdata.get('GOOGLE_API_KEY')\n",
        "genai.configure(api_key=GOOGLE_API_KEY)"
      ]
    },
    {
      "cell_type": "code",
      "execution_count": null,
      "metadata": {
        "id": "HNDlfmQ7_DOx"
      },
      "outputs": [],
      "source": [
        "model = genai.GenerativeModel(model_name = \"gemini-pro\")"
      ]
    },
    {
      "cell_type": "code",
      "execution_count": null,
      "metadata": {
        "id": "sAQU3MGs_FR1"
      },
      "outputs": [],
      "source": [
        "from langchain_google_genai import ChatGoogleGenerativeAI"
      ]
    },
    {
      "cell_type": "code",
      "execution_count": null,
      "metadata": {
        "id": "5e2oug68_IGK"
      },
      "outputs": [],
      "source": [
        "llm = ChatGoogleGenerativeAI(model=\"gemini-pro\",google_api_key=GOOGLE_API_KEY)"
      ]
    },
    {
      "cell_type": "code",
      "execution_count": null,
      "metadata": {
        "id": "D819lQPP_KAq"
      },
      "outputs": [],
      "source": [
        "!pip install langchain"
      ]
    },
    {
      "cell_type": "markdown",
      "metadata": {
        "id": "2c57pzEgk77A"
      },
      "source": [
        "# **INITIALIZING MODEL AND LOADING THE QA CHAIN**"
      ]
    },
    {
      "cell_type": "code",
      "execution_count": null,
      "metadata": {
        "id": "fezt6kXY_Lmj"
      },
      "outputs": [],
      "source": [
        "import urllib\n",
        "import warnings\n",
        "from pathlib import Path as p\n",
        "from pprint import pprint\n",
        "\n",
        "import pandas as pd\n",
        "from langchain import PromptTemplate\n",
        "from langchain.chains.question_answering import load_qa_chain\n",
        "from langchain.document_loaders import PyPDFLoader\n",
        "from langchain.text_splitter import RecursiveCharacterTextSplitter\n",
        "from langchain.vectorstores import Chroma\n",
        "from langchain.chains import RetrievalQA\n",
        "\n",
        "warnings.filterwarnings(\"ignore\")\n",
        "# restart python kernal if issues with langchain import."
      ]
    },
    {
      "cell_type": "code",
      "execution_count": null,
      "metadata": {
        "id": "O6xLc6VH_OxY"
      },
      "outputs": [],
      "source": [
        "from langchain_google_genai import ChatGoogleGenerativeAI\n",
        "model = ChatGoogleGenerativeAI(model=\"gemini-pro\",google_api_key=GOOGLE_API_KEY,\n",
        "                             temperature=0.2,convert_system_message_to_human=True)"
      ]
    },
    {
      "cell_type": "markdown",
      "metadata": {
        "id": "wtgUJbRnlLpl"
      },
      "source": [
        "# **DYNAMIC LOADING PDF FILES FROM GOOGLE DRIVE**"
      ]
    },
    {
      "cell_type": "code",
      "execution_count": null,
      "metadata": {
        "colab": {
          "base_uri": "https://localhost:8080/"
        },
        "id": "W9eJlRrL_QTo",
        "outputId": "dee97c10-66c4-49a3-b10e-a2012f80d539"
      },
      "outputs": [
        {
          "name": "stdout",
          "output_type": "stream",
          "text": [
            "Mounted at /content/gdrive\n"
          ]
        }
      ],
      "source": [
        "from google.colab import drive\n",
        "drive.mount('/content/gdrive',force_remount=True)\n",
        "root_dir=\"/content/gdrive/My Drive/StockgroPDF\""
      ]
    },
    {
      "cell_type": "code",
      "execution_count": null,
      "metadata": {
        "colab": {
          "base_uri": "https://localhost:8080/"
        },
        "id": "5qfVLoU-jv64",
        "outputId": "5b1a2e4e-fda2-4329-a9a2-3e6e89ba1c37"
      },
      "outputs": [],
      "source": [
        "!pip install PyPDF2\n",
        "from PyPDF2 import PdfReader\n",
        "def load_pdf_content(root_dir):\n",
        "    data = {}\n",
        "    full_data=\"\"\n",
        "    for filename in os.listdir(root_dir):\n",
        "        if filename.endswith('.pdf'):\n",
        "            print(filename)\n",
        "            filepath = os.path.join(root_dir, filename)\n",
        "            with open(filepath, 'rb') as f:\n",
        "                reader = PdfReader(f)\n",
        "                content = ''\n",
        "                for page in reader.pages:\n",
        "                    content += page.extract_text()\n",
        "                data[filename] = content\n",
        "        full_data+=content\n",
        "    return full_data\n",
        "full_data = load_pdf_content(root_dir)"
      ]
    },
    {
      "cell_type": "code",
      "execution_count": null,
      "metadata": {
        "colab": {
          "base_uri": "https://localhost:8080/"
        },
        "id": "jkoJTMw9_XPa",
        "outputId": "622c773b-4931-4ee8-ab74-f588f404d886"
      },
      "outputs": [
        {
          "data": {
            "text/plain": [
              "547217"
            ]
          },
          "execution_count": 13,
          "metadata": {},
          "output_type": "execute_result"
        }
      ],
      "source": [
        "len(full_data)"
      ]
    },
    {
      "cell_type": "markdown",
      "metadata": {
        "id": "tmuWLUaqlc_f"
      },
      "source": [
        "# **FAISS VECTOR STORE SETUP**"
      ]
    },
    {
      "cell_type": "code",
      "execution_count": null,
      "metadata": {
        "colab": {
          "base_uri": "https://localhost:8080/"
        },
        "id": "zFEH2oW-4HUb",
        "outputId": "64234ee0-7329-4317-b10c-52e76af81e2f"
      },
      "outputs": [],
      "source": [
        "!pip install faiss-cpu"
      ]
    },
    {
      "cell_type": "code",
      "execution_count": null,
      "metadata": {
        "colab": {
          "base_uri": "https://localhost:8080/",
          "height": 321
        },
        "id": "SdHJK6vI4KFa",
        "outputId": "6648b49f-5ac9-44c4-8023-e5d59401a263"
      },
      "outputs": [],
      "source": [
        "from langchain_google_genai import GoogleGenerativeAIEmbeddings\n",
        "from langchain.vectorstores import FAISS\n",
        "vectorstore = FAISS.from_documents(documents=full_data, embedding = GoogleGenerativeAIEmbeddings(model=\"models/embedding-001\", google_api_key=GOOGLE_API_KEY))"
      ]
    },
    {
      "cell_type": "markdown",
      "metadata": {
        "id": "kEkYJM-elmxY"
      },
      "source": [
        "# **CREATING VECTOR EMBEDDINGS**"
      ]
    },
    {
      "cell_type": "code",
      "execution_count": null,
      "metadata": {
        "colab": {
          "base_uri": "https://localhost:8080/",
          "height": 176
        },
        "id": "2RyuI0m31wd7",
        "outputId": "c052067f-e30b-4099-e6cb-c4fda317e2b4"
      },
      "outputs": [],
      "source": [
        "from langchain_google_genai import GoogleGenerativeAIEmbeddings\n",
        "text_splitter = RecursiveCharacterTextSplitter(chunk_size=1024, chunk_overlap=64)\n",
        "texts = text_splitter.split_text(full_data)\n",
        "\n",
        "# Convert text data into embeddings using GoogleGenerativeAIEmbeddings\n",
        "embeddings = GoogleGenerativeAIEmbeddings(model=\"models/embedding-001\", google_api_key=GOOGLE_API_KEY)\n",
        "vector_index = Chroma.from_texts(texts, embeddings).as_retriever(search_kwargs={\"k\":5})\n",
        "vector_index.storage_context.save_local(\"vector_index\")"
      ]
    },
    {
      "cell_type": "code",
      "execution_count": null,
      "metadata": {
        "id": "ZyssQpT4_nK_"
      },
      "outputs": [],
      "source": [
        "qa_chain = RetrievalQA.from_chain_type(\n",
        "    model,\n",
        "    retriever=vector_index,\n",
        "    return_source_documents=True\n",
        ")"
      ]
    },
    {
      "cell_type": "markdown",
      "metadata": {
        "id": "oPKZOH37l7al"
      },
      "source": [
        "# **PROMPT SETUP AND LOAD QA CHAIN**"
      ]
    },
    {
      "cell_type": "code",
      "execution_count": null,
      "metadata": {
        "id": "ACLhsaukMUV2"
      },
      "outputs": [],
      "source": [
        "template = \"\"\"Use the following pieces of context to answer the question at the end. If you don't know the answer, just say that you don't know, don't try to make up an answer. Keep the answer as concise as possible. Always say \"thanks for asking!\" at the end of the answer.\n",
        "And also add follow-up questions based on the question and answer given\n",
        "{context}\n",
        "Question: {question}\n",
        "\n",
        "Follow-up Question:\"\"\"\n",
        "\n",
        "QA_CHAIN_PROMPT = PromptTemplate.from_template(template)\n",
        "qa_chain = RetrievalQA.from_chain_type(\n",
        "    model,\n",
        "    retriever=vector_index,\n",
        "    return_source_documents=True,\n",
        "    chain_type_kwargs={\"prompt\": QA_CHAIN_PROMPT}\n",
        ")"
      ]
    },
    {
      "cell_type": "markdown",
      "metadata": {
        "id": "oHdBLKTEmG1B"
      },
      "source": [
        "# **SAMPLE QUERY AND RESPONSES**"
      ]
    },
    {
      "cell_type": "code",
      "execution_count": null,
      "metadata": {
        "colab": {
          "base_uri": "https://localhost:8080/",
          "height": 36
        },
        "id": "BmYRDemF_pEw",
        "outputId": "69af1bfc-d21a-45e8-d50f-4fdfaa17e690"
      },
      "outputs": [
        {
          "data": {
            "application/vnd.google.colaboratory.intrinsic+json": {
              "type": "string"
            },
            "text/plain": [
              "\"I'm sorry, but I cannot find the answer to your question in the context provided.\""
            ]
          },
          "execution_count": 18,
          "metadata": {},
          "output_type": "execute_result"
        }
      ],
      "source": [
        "question = \"What is the per share revenue for Meta during 2022?\"\n",
        "result = qa_chain({\"query\": question})\n",
        "result[\"result\"]"
      ]
    },
    {
      "cell_type": "code",
      "execution_count": null,
      "metadata": {
        "colab": {
          "base_uri": "https://localhost:8080/",
          "height": 46
        },
        "id": "MM27x8V__s-V",
        "outputId": "5885f480-8567-41e0-f15b-1e59a62ba073"
      },
      "outputs": [
        {
          "data": {
            "text/markdown": [
              "I'm sorry, but I cannot find the answer to your question in the context provided."
            ],
            "text/plain": [
              "<IPython.core.display.Markdown object>"
            ]
          },
          "execution_count": 19,
          "metadata": {},
          "output_type": "execute_result"
        }
      ],
      "source": [
        "Markdown(result[\"result\"])"
      ]
    },
    {
      "cell_type": "code",
      "execution_count": null,
      "metadata": {
        "colab": {
          "base_uri": "https://localhost:8080/",
          "height": 46
        },
        "id": "ggzYVgSB_-v-",
        "outputId": "03c6d897-e6dc-4f7f-9585-4e31f3641f56"
      },
      "outputs": [
        {
          "data": {
            "text/markdown": [
              "I'm sorry, but the context you provided does not contain the Second Quarter 2023 Financial Highlights of Meta. Therefore, I cannot answer your question."
            ],
            "text/plain": [
              "<IPython.core.display.Markdown object>"
            ]
          },
          "execution_count": 20,
          "metadata": {},
          "output_type": "execute_result"
        }
      ],
      "source": [
        "question = \"Provide the Second Quarter 2023 Financial Highlights of Meta\"\n",
        "result = qa_chain({\"query\": question})\n",
        "Markdown(result[\"result\"])"
      ]
    },
    {
      "cell_type": "code",
      "execution_count": null,
      "metadata": {
        "id": "LkK_lOIkq2Gk"
      },
      "outputs": [],
      "source": [
        "Markdown(result[\"result\"])"
      ]
    },
    {
      "cell_type": "code",
      "execution_count": null,
      "metadata": {
        "colab": {
          "base_uri": "https://localhost:8080/",
          "height": 315
        },
        "id": "C4y-7WYpAWvM",
        "outputId": "0a3fce06-9fcf-46b8-fd19-baa87dd2cd19"
      },
      "outputs": [
        {
          "data": {
            "text/markdown": [
              "| Three Months Ended June 30, | In millions, except percentages and per share amounts | 2023 | 2022 | % Change |\n",
              "|---|---|---|---|---|\n",
              "| Revenue | $ 31,999 | $ 28,822 | 11% |\n",
              "| Costs and expenses | 22,607 | 20,464 | 10% |\n",
              "| Income from operations | $ 9,392 | $ 8,358 | 12% |\n",
              "| Operating margin | 29 % | 29 % | - |\n",
              "| Provision for income taxes | $ 1,505 | $ 1,499 | -% |\n",
              "| Effective tax rate | 16 % | 18 % | - |\n",
              "| Net income | $ 7,788 | $ 6,687 | 16% |\n",
              "| Diluted earnings per share (EPS) | $ 2.98 | $ 2.46 | 21% |"
            ],
            "text/plain": [
              "<IPython.core.display.Markdown object>"
            ]
          },
          "execution_count": 37,
          "metadata": {},
          "output_type": "execute_result"
        }
      ],
      "source": [
        "question = \"Provide the Second Quarter 2023 table of Financial Highlights of Meta\"\n",
        "result = qa_chain({\"query\": question})\n",
        "Markdown(result[\"result\"])"
      ]
    },
    {
      "cell_type": "code",
      "execution_count": null,
      "metadata": {
        "id": "Qs-0Q7_NLu4E"
      },
      "outputs": [],
      "source": [
        "question = \"give the net income of nvidia  for april 30 ,2023\"\n",
        "result = qa_chain({\"query\": question})\n",
        "Markdown(result[\"result\"])"
      ]
    },
    {
      "cell_type": "code",
      "execution_count": null,
      "metadata": {
        "colab": {
          "base_uri": "https://localhost:8080/",
          "height": 50
        },
        "id": "hPrJTs5PMImU",
        "outputId": "1af24054-767b-49d3-b3a2-98f6d58abc6d"
      },
      "outputs": [
        {
          "data": {
            "text/markdown": [
              "Meta: $7,788 million\n",
              "Tesla: $2,703 million"
            ],
            "text/plain": [
              "<IPython.core.display.Markdown object>"
            ]
          },
          "execution_count": 23,
          "metadata": {},
          "output_type": "execute_result"
        }
      ],
      "source": [
        "question = \"give the net income of meta and tesla  for Three Months Ended June 30,2023\"\n",
        "result = qa_chain({\"query\": question})\n",
        "Markdown(result[\"result\"])"
      ]
    },
    {
      "cell_type": "code",
      "execution_count": null,
      "metadata": {
        "colab": {
          "background_save": true,
          "base_uri": "https://localhost:8080/",
          "height": 67
        },
        "id": "qPpGIQHmh8cV",
        "outputId": "dc8185ee-8916-4f2c-9b09-8d01ad585ce3"
      },
      "outputs": [
        {
          "data": {
            "text/markdown": [
              "The provided context does not contain information about Meta's net income for the Three Months Ended June 30, 2023, so I cannot answer this question from the provided context."
            ],
            "text/plain": [
              "<IPython.core.display.Markdown object>"
            ]
          },
          "execution_count": 40,
          "metadata": {},
          "output_type": "execute_result"
        }
      ],
      "source": [
        "question = \"according to the net income of meta and tesla  for Three Months Ended June 30,2023 which is better?\"\n",
        "result = qa_chain({\"query\": question})\n",
        "Markdown(result[\"result\"])"
      ]
    },
    {
      "cell_type": "code",
      "execution_count": null,
      "metadata": {
        "colab": {
          "base_uri": "https://localhost:8080/",
          "height": 46
        },
        "id": "DDVHvCr-vNRt",
        "outputId": "3ed8677f-ac25-45bc-8801-a282735a7ce8"
      },
      "outputs": [
        {
          "data": {
            "text/markdown": [
              "I'm sorry, I do not have access to the context you provided, so I cannot answer this question."
            ],
            "text/plain": [
              "<IPython.core.display.Markdown object>"
            ]
          },
          "execution_count": 25,
          "metadata": {},
          "output_type": "execute_result"
        }
      ],
      "source": [
        "question = \"Which company do you think managed to keep their return on capital (ROE) over the next decade (2005-2014), in line or higher than the previous10 years? i.e. retained their moat\"\n",
        "result = qa_chain({\"query\": question})\n",
        "Markdown(result[\"result\"])"
      ]
    },
    {
      "cell_type": "code",
      "execution_count": null,
      "metadata": {
        "colab": {
          "base_uri": "https://localhost:8080/",
          "height": 213
        },
        "id": "_6hUEvkIvTEE",
        "outputId": "ec5ca174-55fd-438b-c47f-961c4049748d"
      },
      "outputs": [
        {
          "data": {
            "text/markdown": [
              "Walt Disney went from 12.6% ROE (1995-2004) to 13.01% (2005-2014) while Nintendo went from 15.1% ROE (1995-2004) to 9.4% (2005-2014).  The stock prices? Disney was up 298% and Nintendo was down 11.5%.  \n",
              "Rationale: Walt Disney Corporation has a strong brand of characters and theme parks; not to mention that ESPN is the most profitable television stations in the world.  Their brands are about as strong as they come, just ask any kid under the age of 10.  Nintendo, on the other hand, does have a decent brand, but video games are a hit and miss business.  Nintendo actually lost money in 2011 and 2013 because of poor sales.     \n",
              "\n",
              "Follow up questions:\n",
              "\n",
              "1. What were the main things that happened to Disney and Nintendo during the next decade (2005-2014)?\n",
              "2. What could you identify as Disney’s moat?  What about Nintendo’s?  \n",
              "3. What is it about that businesses that makes them sticky?  Is one “stickier” than the other?"
            ],
            "text/plain": [
              "<IPython.core.display.Markdown object>"
            ]
          },
          "execution_count": 22,
          "metadata": {},
          "output_type": "execute_result"
        }
      ],
      "source": [
        "question = \"Comparative Stock Charts of Walt Disney vs. Nintendo\"\n",
        "result = qa_chain({\"query\": question})\n",
        "Markdown(result[\"result\"])"
      ]
    },
    {
      "cell_type": "code",
      "execution_count": null,
      "metadata": {
        "colab": {
          "base_uri": "https://localhost:8080/",
          "height": 116
        },
        "id": "xw5xvf-cv-HC",
        "outputId": "0dcc4bbf-3e67-4c61-86fa-3031c096c2b6"
      },
      "outputs": [
        {
          "data": {
            "text/markdown": [
              "Disney increased from 13.7% to 30.9% return on equity (ROE) compared with HP whose ROE decreased from 12.2% to 10%.  People simply like iPhones more than PCs, and Apple has a much stronger brand image, ecosystem around its products, and quality of design than HP.   Specifically, Apple benefits from the economic moats of 1) a strong brand (they price their products at a premium) and 2) high switching costs (the Apple ecosystem makes it costly to switch to Android or Windows once you’ve bought movies, music and apps on iTunes).  HP really just makes another run of the mill computer for cheap.  And their stock prices?  Stock performance follows company performance, so Apple’s stock increased 975% while HP increased by a measly 40% over the time period."
            ],
            "text/plain": [
              "<IPython.core.display.Markdown object>"
            ]
          },
          "execution_count": 23,
          "metadata": {},
          "output_type": "execute_result"
        }
      ],
      "source": [
        "question = \"What were the main things that happened to Disney and Nintendo during the next decade (2005-2014)?\"\n",
        "result = qa_chain({\"query\": question})\n",
        "Markdown(result[\"result\"])"
      ]
    },
    {
      "cell_type": "code",
      "execution_count": null,
      "metadata": {
        "colab": {
          "base_uri": "https://localhost:8080/",
          "height": 119
        },
        "id": "7YpUp29Lyew6",
        "outputId": "ee5b35e5-d10f-4ec7-9935-3918b4e949a1"
      },
      "outputs": [
        {
          "data": {
            "text/markdown": [
              "| Period | Cost and Expenses | Change |\n",
              "|---|---|---|\n",
              "| Three Months Ended June 30, 2023 | $22,607 million | 10% |\n",
              "| Six Months Ended June 30, 2023 | $44,026 million | 9% |\n",
              "| Three Months Ended June 30, 2022 | $20,464 million | - |\n",
              "| Six Months Ended June 30, 2022 | $39,848 million | - |"
            ],
            "text/plain": [
              "<IPython.core.display.Markdown object>"
            ]
          },
          "execution_count": 24,
          "metadata": {},
          "output_type": "execute_result"
        }
      ],
      "source": [
        "question = \"compare the cost and expenses for three months ended june 30,2023 and Six Months Ended June 30, for Meta with year 2022\"\n",
        "result = qa_chain({\"query\": question})\n",
        "Markdown(result[\"result\"])"
      ]
    },
    {
      "cell_type": "code",
      "execution_count": null,
      "metadata": {
        "colab": {
          "base_uri": "https://localhost:8080/",
          "height": 116
        },
        "id": "fsT2rQ4GoW_j",
        "outputId": "6e7b45e3-a18f-46fb-b665-7cdd7b1d8ba3"
      },
      "outputs": [
        {
          "data": {
            "text/markdown": [
              "Disney increased from 13.7% to 30.9% return on equity (ROE) compared with HP whose ROE decreased from 12.2% to 10%.  People simply like iPhones more than PCs, and Apple has a much stronger brand image, ecosystem around its products, and quality of design than HP .   Specifically, Apple benefits from the economic moats of 1) a strong brand (they price their products at a premium) and 2) high switching costs (the Apple ecosystem makes it costly to switch to Android or Windows once you’ve bought movies, music and apps on iTunes).  HP really just makes another run of the mill computer for cheap.  And their stock prices?  Stock performance follows company performance, so Apple’s stock increased 975% while HP increased by a measly 40% over the time period."
            ],
            "text/plain": [
              "<IPython.core.display.Markdown object>"
            ]
          },
          "execution_count": 25,
          "metadata": {},
          "output_type": "execute_result"
        }
      ],
      "source": [
        "question = \"What were the main things that happened to Disney and Nintendo during the next decade (2005-2014)?\"\n",
        "result = qa_chain({\"query\": question})\n",
        "Markdown(result[\"result\"])"
      ]
    },
    {
      "cell_type": "code",
      "execution_count": null,
      "metadata": {
        "id": "8pCHglXgxthv"
      },
      "outputs": [],
      "source": []
    }
  ],
  "metadata": {
    "colab": {
      "provenance": [],
      "toc_visible": true
    },
    "kernelspec": {
      "display_name": "Python 3",
      "name": "python3"
    },
    "language_info": {
      "name": "python"
    }
  },
  "nbformat": 4,
  "nbformat_minor": 0
}
